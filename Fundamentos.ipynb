{
 "cells": [
  {
   "cell_type": "code",
   "execution_count": 1,
   "id": "d49f614a-3574-488c-a969-3322e6e8bd77",
   "metadata": {},
   "outputs": [],
   "source": [
    "# Python distingue entre mayusculas y minusculas"
   ]
  },
  {
   "cell_type": "code",
   "execution_count": 3,
   "id": "53d7f265-2f27-4c8e-949f-899aa882d339",
   "metadata": {},
   "outputs": [
    {
     "name": "stdout",
     "output_type": "stream",
     "text": [
      "El curso es:  Backend python\n"
     ]
    }
   ],
   "source": [
    "A = \"Backend python\"\n",
    "print(\"El curso es: \", A)"
   ]
  },
  {
   "cell_type": "markdown",
   "id": "f0cf3414-4569-4794-8091-bee16b139d46",
   "metadata": {},
   "source": [
    "## Palabras reservadas en Python"
   ]
  },
  {
   "cell_type": "code",
   "execution_count": 8,
   "id": "ea47d258-37ff-437f-884b-ae58fb544574",
   "metadata": {},
   "outputs": [
    {
     "name": "stdout",
     "output_type": "stream",
     "text": [
      "\n",
      "Here is a list of the Python keywords.  Enter any keyword to get more help.\n",
      "\n",
      "False               class               from                or\n",
      "None                continue            global              pass\n",
      "True                def                 if                  raise\n",
      "and                 del                 import              return\n",
      "as                  elif                in                  try\n",
      "assert              else                is                  while\n",
      "async               except              lambda              with\n",
      "await               finally             nonlocal            yield\n",
      "break               for                 not                 \n",
      "\n"
     ]
    }
   ],
   "source": [
    "help(\"keywords\")"
   ]
  },
  {
   "cell_type": "markdown",
   "id": "f6de010b-fc70-4844-8a36-76621c337fb7",
   "metadata": {},
   "source": [
    "## Caractéres de escape en Python"
   ]
  },
  {
   "cell_type": "markdown",
   "id": "b2fbdcd3-32a4-46fd-bd3f-9371e1ecfa72",
   "metadata": {},
   "source": [
    "##sSalto de linea"
   ]
  },
  {
   "cell_type": "code",
   "execution_count": 12,
   "id": "672e74bc-c3d2-4a12-a277-c76c1307672f",
   "metadata": {},
   "outputs": [
    {
     "data": {
      "text/plain": [
       "'\\n'"
      ]
     },
     "execution_count": 12,
     "metadata": {},
     "output_type": "execute_result"
    }
   ],
   "source": [
    "\"\\n\""
   ]
  },
  {
   "cell_type": "code",
   "execution_count": 28,
   "id": "fa5b9cc4-b903-426e-8968-7365b2feeefc",
   "metadata": {},
   "outputs": [],
   "source": [
    "my_course = \"Backen Python de EBAC\""
   ]
  },
  {
   "cell_type": "code",
   "execution_count": 26,
   "id": "247a26bd-81ab-4e83-b841-0f823baccf32",
   "metadata": {},
   "outputs": [
    {
     "name": "stdout",
     "output_type": "stream",
     "text": [
      "Backend Python\n",
      "de EBAC\n"
     ]
    }
   ],
   "source": [
    "print (my_course)"
   ]
  },
  {
   "cell_type": "code",
   "execution_count": 22,
   "id": "b0b1da9a-b3e2-43db-861e-bc9ff5ea8daa",
   "metadata": {},
   "outputs": [],
   "source": [
    "my_course = \"Backend Python\\nde EBAC\""
   ]
  },
  {
   "cell_type": "code",
   "execution_count": 24,
   "id": "3af82ec2-8ff6-47f4-961a-b47609b2ad9f",
   "metadata": {},
   "outputs": [
    {
     "name": "stdout",
     "output_type": "stream",
     "text": [
      "Backend Python\n",
      "de EBAC\n"
     ]
    }
   ],
   "source": [
    "print (my_course)"
   ]
  },
  {
   "cell_type": "markdown",
   "id": "4707c53b-9014-4466-8c2b-b79b39061783",
   "metadata": {},
   "source": [
    "## Tab"
   ]
  },
  {
   "cell_type": "code",
   "execution_count": 34,
   "id": "e680f6a4-d62e-4dda-a13f-981708d0b2b0",
   "metadata": {},
   "outputs": [],
   "source": [
    "my_course= \"Backend \\t Python \\t de EBAC\""
   ]
  },
  {
   "cell_type": "code",
   "execution_count": 36,
   "id": "4c021161-e849-4c73-9506-dc9fef3a1a78",
   "metadata": {},
   "outputs": [
    {
     "name": "stdout",
     "output_type": "stream",
     "text": [
      "Backend \t Python \t de EBAC\n"
     ]
    }
   ],
   "source": [
    "print (my_course)"
   ]
  },
  {
   "cell_type": "markdown",
   "id": "41302120-3b4d-42ea-9d9e-4dafb7f56fb9",
   "metadata": {},
   "source": [
    "## carriage return/retorno de carro"
   ]
  },
  {
   "cell_type": "code",
   "execution_count": 41,
   "id": "48bd26be-4236-4661-a615-2c8131cebda0",
   "metadata": {},
   "outputs": [],
   "source": [
    "my_course= \"Backend \\r Python \\t de EBAC\""
   ]
  },
  {
   "cell_type": "code",
   "execution_count": 43,
   "id": "adc2f04f-cee1-4966-ae2c-8c56437c736e",
   "metadata": {},
   "outputs": [
    {
     "name": "stdout",
     "output_type": "stream",
     "text": [
      " Python \t de EBAC\n"
     ]
    }
   ],
   "source": [
    "print (my_course)"
   ]
  },
  {
   "cell_type": "markdown",
   "id": "16b8cf90-c825-4982-b203-e4995d9ae1fc",
   "metadata": {},
   "source": [
    "## Backspace/Retorno"
   ]
  },
  {
   "cell_type": "markdown",
   "id": "33d0651e-cc79-4ee8-bd22-cc7caa13259e",
   "metadata": {},
   "source": [
    "### Elimina el caracter previo"
   ]
  },
  {
   "cell_type": "code",
   "execution_count": 47,
   "id": "0c4e79cc-b29a-40c2-95e5-b2893c5e9221",
   "metadata": {},
   "outputs": [],
   "source": [
    "my_course= \"Backend\\b Python \\t de EBAC\""
   ]
  },
  {
   "cell_type": "code",
   "execution_count": 51,
   "id": "80cd183d-99af-4ba0-90e7-57ec60c23098",
   "metadata": {},
   "outputs": [
    {
     "name": "stdout",
     "output_type": "stream",
     "text": [
      "Backen Python \t de EBAC\n"
     ]
    }
   ],
   "source": [
    "print(my_course)"
   ]
  },
  {
   "cell_type": "markdown",
   "id": "454a2673-fa35-4850-a1fe-0a45098cb60b",
   "metadata": {},
   "source": [
    "## Octal"
   ]
  },
  {
   "cell_type": "code",
   "execution_count": null,
   "id": "5da1c2bd-2b3c-4dc1-a1fa-836d88785fab",
   "metadata": {},
   "outputs": [],
   "source": []
  }
 ],
 "metadata": {
  "kernelspec": {
   "display_name": "Python 3 (ipykernel)",
   "language": "python",
   "name": "python3"
  },
  "language_info": {
   "codemirror_mode": {
    "name": "ipython",
    "version": 3
   },
   "file_extension": ".py",
   "mimetype": "text/x-python",
   "name": "python",
   "nbconvert_exporter": "python",
   "pygments_lexer": "ipython3",
   "version": "3.12.4"
  }
 },
 "nbformat": 4,
 "nbformat_minor": 5
}
